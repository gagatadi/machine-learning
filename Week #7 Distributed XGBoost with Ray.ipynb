{
  "nbformat": 4,
  "nbformat_minor": 0,
  "metadata": {
    "colab": {
      "name": "Untitled27.ipynb",
      "provenance": [],
      "authorship_tag": "ABX9TyM5pQegNu4Ae+VxKE+zXmq6",
      "include_colab_link": true
    },
    "kernelspec": {
      "name": "python3",
      "display_name": "Python 3"
    },
    "language_info": {
      "name": "python"
    }
  },
  "cells": [
    {
      "cell_type": "markdown",
      "metadata": {
        "id": "view-in-github",
        "colab_type": "text"
      },
      "source": [
        "<a href=\"https://colab.research.google.com/github/gagatadi/machine-learning/blob/main/Week%20%237%20Distributed%20XGBoost%20with%20Ray.ipynb\" target=\"_parent\"><img src=\"https://colab.research.google.com/assets/colab-badge.svg\" alt=\"Open In Colab\"/></a>"
      ]
    },
    {
      "cell_type": "code",
      "metadata": {
        "colab": {
          "base_uri": "https://localhost:8080/"
        },
        "id": "wvtVpPbE0_aE",
        "outputId": "db39a23c-c7f3-495e-9034-2b424cb0d14e"
      },
      "source": [
        "pip install ray\n"
      ],
      "execution_count": 1,
      "outputs": [
        {
          "output_type": "stream",
          "name": "stdout",
          "text": [
            "Collecting ray\n",
            "  Downloading ray-1.8.0-cp37-cp37m-manylinux2014_x86_64.whl (54.7 MB)\n",
            "\u001b[K     |████████████████████████████████| 54.7 MB 35 kB/s \n",
            "\u001b[?25hRequirement already satisfied: filelock in /usr/local/lib/python3.7/dist-packages (from ray) (3.3.2)\n",
            "Collecting redis>=3.5.0\n",
            "  Downloading redis-3.5.3-py2.py3-none-any.whl (72 kB)\n",
            "\u001b[K     |████████████████████████████████| 72 kB 623 kB/s \n",
            "\u001b[?25hRequirement already satisfied: protobuf>=3.15.3 in /usr/local/lib/python3.7/dist-packages (from ray) (3.17.3)\n",
            "Requirement already satisfied: click>=7.0 in /usr/local/lib/python3.7/dist-packages (from ray) (7.1.2)\n",
            "Requirement already satisfied: attrs in /usr/local/lib/python3.7/dist-packages (from ray) (21.2.0)\n",
            "Requirement already satisfied: jsonschema in /usr/local/lib/python3.7/dist-packages (from ray) (2.6.0)\n",
            "Requirement already satisfied: msgpack<2.0.0,>=1.0.0 in /usr/local/lib/python3.7/dist-packages (from ray) (1.0.2)\n",
            "Requirement already satisfied: numpy>=1.16 in /usr/local/lib/python3.7/dist-packages (from ray) (1.19.5)\n",
            "Requirement already satisfied: pyyaml in /usr/local/lib/python3.7/dist-packages (from ray) (3.13)\n",
            "Requirement already satisfied: grpcio>=1.28.1 in /usr/local/lib/python3.7/dist-packages (from ray) (1.41.1)\n",
            "Requirement already satisfied: six>=1.5.2 in /usr/local/lib/python3.7/dist-packages (from grpcio>=1.28.1->ray) (1.15.0)\n",
            "Installing collected packages: redis, ray\n",
            "Successfully installed ray-1.8.0 redis-3.5.3\n"
          ]
        }
      ]
    },
    {
      "cell_type": "code",
      "metadata": {
        "colab": {
          "base_uri": "https://localhost:8080/"
        },
        "id": "5yb25gdx1Gzi",
        "outputId": "45235a43-7a88-46b9-9759-0da0513aed91"
      },
      "source": [
        "pip install xgboost_ray"
      ],
      "execution_count": 2,
      "outputs": [
        {
          "output_type": "stream",
          "name": "stdout",
          "text": [
            "Collecting xgboost_ray\n",
            "  Downloading xgboost_ray-0.1.5-py3-none-any.whl (136 kB)\n",
            "\u001b[?25l\r\u001b[K     |██▍                             | 10 kB 23.0 MB/s eta 0:00:01\r\u001b[K     |████▉                           | 20 kB 28.5 MB/s eta 0:00:01\r\u001b[K     |███████▏                        | 30 kB 28.5 MB/s eta 0:00:01\r\u001b[K     |█████████▋                      | 40 kB 21.5 MB/s eta 0:00:01\r\u001b[K     |████████████                    | 51 kB 10.7 MB/s eta 0:00:01\r\u001b[K     |██████████████▍                 | 61 kB 10.9 MB/s eta 0:00:01\r\u001b[K     |████████████████▉               | 71 kB 9.8 MB/s eta 0:00:01\r\u001b[K     |███████████████████▏            | 81 kB 10.9 MB/s eta 0:00:01\r\u001b[K     |█████████████████████▋          | 92 kB 8.8 MB/s eta 0:00:01\r\u001b[K     |████████████████████████        | 102 kB 9.6 MB/s eta 0:00:01\r\u001b[K     |██████████████████████████▍     | 112 kB 9.6 MB/s eta 0:00:01\r\u001b[K     |████████████████████████████▉   | 122 kB 9.6 MB/s eta 0:00:01\r\u001b[K     |███████████████████████████████▏| 133 kB 9.6 MB/s eta 0:00:01\r\u001b[K     |████████████████████████████████| 136 kB 9.6 MB/s \n",
            "\u001b[?25hRequirement already satisfied: pyarrow<5.0.0 in /usr/local/lib/python3.7/dist-packages (from xgboost_ray) (3.0.0)\n",
            "Requirement already satisfied: wrapt>=1.12.1 in /usr/local/lib/python3.7/dist-packages (from xgboost_ray) (1.13.3)\n",
            "Requirement already satisfied: ray>=1.6 in /usr/local/lib/python3.7/dist-packages (from xgboost_ray) (1.8.0)\n",
            "Requirement already satisfied: pandas in /usr/local/lib/python3.7/dist-packages (from xgboost_ray) (1.1.5)\n",
            "Requirement already satisfied: numpy<1.20,>=1.16 in /usr/local/lib/python3.7/dist-packages (from xgboost_ray) (1.19.5)\n",
            "Requirement already satisfied: xgboost>=0.90 in /usr/local/lib/python3.7/dist-packages (from xgboost_ray) (0.90)\n",
            "Requirement already satisfied: jsonschema in /usr/local/lib/python3.7/dist-packages (from ray>=1.6->xgboost_ray) (2.6.0)\n",
            "Requirement already satisfied: msgpack<2.0.0,>=1.0.0 in /usr/local/lib/python3.7/dist-packages (from ray>=1.6->xgboost_ray) (1.0.2)\n",
            "Requirement already satisfied: attrs in /usr/local/lib/python3.7/dist-packages (from ray>=1.6->xgboost_ray) (21.2.0)\n",
            "Requirement already satisfied: filelock in /usr/local/lib/python3.7/dist-packages (from ray>=1.6->xgboost_ray) (3.3.2)\n",
            "Requirement already satisfied: redis>=3.5.0 in /usr/local/lib/python3.7/dist-packages (from ray>=1.6->xgboost_ray) (3.5.3)\n",
            "Requirement already satisfied: click>=7.0 in /usr/local/lib/python3.7/dist-packages (from ray>=1.6->xgboost_ray) (7.1.2)\n",
            "Requirement already satisfied: protobuf>=3.15.3 in /usr/local/lib/python3.7/dist-packages (from ray>=1.6->xgboost_ray) (3.17.3)\n",
            "Requirement already satisfied: pyyaml in /usr/local/lib/python3.7/dist-packages (from ray>=1.6->xgboost_ray) (3.13)\n",
            "Requirement already satisfied: grpcio>=1.28.1 in /usr/local/lib/python3.7/dist-packages (from ray>=1.6->xgboost_ray) (1.41.1)\n",
            "Requirement already satisfied: six>=1.5.2 in /usr/local/lib/python3.7/dist-packages (from grpcio>=1.28.1->ray>=1.6->xgboost_ray) (1.15.0)\n",
            "Requirement already satisfied: scipy in /usr/local/lib/python3.7/dist-packages (from xgboost>=0.90->xgboost_ray) (1.4.1)\n",
            "Requirement already satisfied: pytz>=2017.2 in /usr/local/lib/python3.7/dist-packages (from pandas->xgboost_ray) (2018.9)\n",
            "Requirement already satisfied: python-dateutil>=2.7.3 in /usr/local/lib/python3.7/dist-packages (from pandas->xgboost_ray) (2.8.2)\n",
            "Installing collected packages: xgboost-ray\n",
            "Successfully installed xgboost-ray-0.1.5\n"
          ]
        }
      ]
    },
    {
      "cell_type": "code",
      "metadata": {
        "colab": {
          "base_uri": "https://localhost:8080/"
        },
        "id": "d4bIKtdM1IDj",
        "outputId": "ce498dc7-c2aa-461b-b773-5fb714460be5"
      },
      "source": [
        "pip install sklearn"
      ],
      "execution_count": 3,
      "outputs": [
        {
          "output_type": "stream",
          "name": "stdout",
          "text": [
            "Requirement already satisfied: sklearn in /usr/local/lib/python3.7/dist-packages (0.0)\n",
            "Requirement already satisfied: scikit-learn in /usr/local/lib/python3.7/dist-packages (from sklearn) (0.22.2.post1)\n",
            "Requirement already satisfied: numpy>=1.11.0 in /usr/local/lib/python3.7/dist-packages (from scikit-learn->sklearn) (1.19.5)\n",
            "Requirement already satisfied: joblib>=0.11 in /usr/local/lib/python3.7/dist-packages (from scikit-learn->sklearn) (1.1.0)\n",
            "Requirement already satisfied: scipy>=0.17.0 in /usr/local/lib/python3.7/dist-packages (from scikit-learn->sklearn) (1.4.1)\n"
          ]
        }
      ]
    },
    {
      "cell_type": "code",
      "metadata": {
        "colab": {
          "base_uri": "https://localhost:8080/"
        },
        "id": "9Ez3ICTB1JZm",
        "outputId": "10d03cf5-540e-4d0e-aab5-66e9b37490e7"
      },
      "source": [
        "from xgboost_ray import RayDMatrix, RayParams, train\n",
        "from sklearn.datasets import load_breast_cancer\n",
        "\n",
        "train_x, train_y = load_breast_cancer(return_X_y=True)\n",
        "train_set = RayDMatrix(train_x, train_y)\n",
        "\n",
        "evals_result = {}\n",
        "bst = train(\n",
        "    {\n",
        "        \"objective\": \"binary:logistic\",\n",
        "        \"eval_metric\": [\"logloss\", \"error\"],\n",
        "    },\n",
        "    train_set,\n",
        "    evals_result=evals_result,\n",
        "    evals=[(train_set, \"train\")],\n",
        "    verbose_eval=False,\n",
        "    ray_params=RayParams(num_actors=2, cpus_per_actor=1))\n",
        "\n",
        "bst.save_model(\"model.xgb\")\n",
        "print(\"Final training error: {:.4f}\".format(\n",
        "    evals_result[\"train\"][\"error\"][-1]))"
      ],
      "execution_count": 4,
      "outputs": [
        {
          "output_type": "stream",
          "name": "stderr",
          "text": [
            "/usr/local/lib/python3.7/dist-packages/xgboost_ray/main.py:166: UserWarning: You are using `xgboost_ray` with a legacy XGBoost version (version 0.90). While we try to support older XGBoost versions, please note that this library is only fully tested and supported for XGBoost >= 1.4. Please consider upgrading your XGBoost version (`pip install -U xgboost`).\n",
            "  warnings.warn(LEGACY_WARNING)\n",
            "2021-11-12 11:09:25,112\tINFO main.py:971 -- [RayXGBoost] Created 2 new actors (2 total actors). Waiting until actors are ready for training.\n",
            "2021-11-12 11:09:27,253\tINFO main.py:1016 -- [RayXGBoost] Starting XGBoost training.\n",
            "\u001b[2m\u001b[36m(pid=301)\u001b[0m [11:09:27] WARNING: /workspace/src/learner.cc:622: Tree method is automatically selected to be 'approx' for distributed training.\n",
            "\u001b[2m\u001b[36m(pid=301)\u001b[0m [11:09:27] Tree method is automatically selected to be 'approx' for distributed training.\n",
            "\u001b[2m\u001b[36m(pid=325)\u001b[0m [11:09:27] WARNING: /workspace/src/learner.cc:622: Tree method is automatically selected to be 'approx' for distributed training.\n",
            "\u001b[2m\u001b[36m(pid=325)\u001b[0m [11:09:27] Tree method is automatically selected to be 'approx' for distributed training.\n",
            "2021-11-12 11:09:28,741\tINFO main.py:1498 -- [RayXGBoost] Finished XGBoost training on training data with total N=569 in 4.48 seconds (1.48 pure XGBoost training time).\n"
          ]
        },
        {
          "output_type": "stream",
          "name": "stdout",
          "text": [
            "Final training error: 0.0053\n"
          ]
        }
      ]
    },
    {
      "cell_type": "code",
      "metadata": {
        "colab": {
          "base_uri": "https://localhost:8080/"
        },
        "id": "x9Z5u-QI1mtS",
        "outputId": "b566ad3d-70cb-4f82-bcfd-724d3c801611"
      },
      "source": [
        "from xgboost_ray import RayDMatrix, RayParams, predict\n",
        "from sklearn.datasets import load_breast_cancer\n",
        "import xgboost as xgb\n",
        "\n",
        "data, labels = load_breast_cancer(return_X_y=True)\n",
        "\n",
        "dpred = RayDMatrix(data, labels)\n",
        "\n",
        "bst = xgb.Booster(model_file=\"model.xgb\")\n",
        "pred_ray = predict(bst, dpred, ray_params=RayParams(num_actors=2))\n",
        "\n",
        "print(pred_ray)"
      ],
      "execution_count": 5,
      "outputs": [
        {
          "output_type": "stream",
          "name": "stderr",
          "text": [
            "/usr/local/lib/python3.7/dist-packages/xgboost_ray/main.py:166: UserWarning: You are using `xgboost_ray` with a legacy XGBoost version (version 0.90). While we try to support older XGBoost versions, please note that this library is only fully tested and supported for XGBoost >= 1.4. Please consider upgrading your XGBoost version (`pip install -U xgboost`).\n",
            "  warnings.warn(LEGACY_WARNING)\n",
            "2021-11-12 11:09:44,423\tINFO main.py:1535 -- [RayXGBoost] Created 2 remote actors.\n",
            "2021-11-12 11:09:46,565\tINFO main.py:1552 -- [RayXGBoost] Starting XGBoost prediction.\n"
          ]
        },
        {
          "output_type": "stream",
          "name": "stdout",
          "text": [
            "[0.07511145 0.04715708 0.02642454 0.11464816 0.08779665 0.19609766\n",
            " 0.02642454 0.03200296 0.03968306 0.06930447 0.09290799 0.02642454\n",
            " 0.03476055 0.05490047 0.05012454 0.02642454 0.03337562 0.02642454\n",
            " 0.02642454 0.9528658  0.9751126  0.9751126  0.07511145 0.02642454\n",
            " 0.02642454 0.04102892 0.03118352 0.02642454 0.02642454 0.08779665\n",
            " 0.02642454 0.03476055 0.02642454 0.02642454 0.02642454 0.02642454\n",
            " 0.0665335  0.9690314  0.33619487 0.0696831  0.5729184  0.15662025\n",
            " 0.03451282 0.03200296 0.12301622 0.04102892 0.9751126  0.04096693\n",
            " 0.97315884 0.9234187  0.9751126  0.9751126  0.9751126  0.03059936\n",
            " 0.09855346 0.9751126  0.02642454 0.03755146 0.9751126  0.97315884\n",
            " 0.9751126  0.97315884 0.02642454 0.9751126  0.03120249 0.03120249\n",
            " 0.97315884 0.9751126  0.8630876  0.9751126  0.02642454 0.9751126\n",
            " 0.02642454 0.18486539 0.9751126  0.02642454 0.9684864  0.07511145\n",
            " 0.04528174 0.9751126  0.97315884 0.8423582  0.02642454 0.02642454\n",
            " 0.9751126  0.02642454 0.18525673 0.02642454 0.9610139  0.91992867\n",
            " 0.9637276  0.07784454 0.9476124  0.9751126  0.02642454 0.02642454\n",
            " 0.9751126  0.9690314  0.97315884 0.04415701 0.10755398 0.97315884\n",
            " 0.9751126  0.97315884 0.9751126  0.07822353 0.9541412  0.9751126\n",
            " 0.03451282 0.97315884 0.97315884 0.9505852  0.8015017  0.9751126\n",
            " 0.97315884 0.97315884 0.9690314  0.02642454 0.02642454 0.03059936\n",
            " 0.97315884 0.02642454 0.03451282 0.93471986 0.9751126  0.9751126\n",
            " 0.08796025 0.03059936 0.89851445 0.02642454 0.97315884 0.02642454\n",
            " 0.03059936 0.8943731  0.03059936 0.83710206 0.9690314  0.9751126\n",
            " 0.04825843 0.9751126  0.9751126  0.06849893 0.9751126  0.9751126\n",
            " 0.9751126  0.97315884 0.14397003 0.9537103  0.8998925  0.9543276\n",
            " 0.9751126  0.97315884 0.911794   0.9751126  0.9622466  0.9751126\n",
            " 0.02642454 0.64313    0.9751126  0.9751126  0.95592535 0.08779665\n",
            " 0.02642454 0.97315884 0.02642454 0.9657479  0.97315884 0.03337562\n",
            " 0.02642454 0.9724673  0.9751126  0.0708931  0.07511145 0.9690314\n",
            " 0.96707124 0.9751126  0.9751126  0.02642454 0.95819813 0.9690314\n",
            " 0.02642454 0.02642454 0.03337562 0.9690314  0.09398807 0.97315884\n",
            " 0.03517583 0.9751126  0.9751126  0.9751126  0.04069214 0.77108157\n",
            " 0.9434622  0.08649345 0.02786062 0.9751126  0.03120249 0.07338996\n",
            " 0.02642454 0.03118352 0.97315884 0.02642454 0.02642454 0.02642454\n",
            " 0.9622466  0.21271785 0.9751126  0.06340088 0.8858816  0.8857505\n",
            " 0.02642454 0.9751126  0.08779665 0.04224477 0.03755146 0.04096693\n",
            " 0.96730274 0.9751126  0.02642454 0.02642454 0.9751126  0.9751126\n",
            " 0.9751126  0.02642454 0.9751126  0.92772865 0.9751126  0.95374286\n",
            " 0.9610139  0.0557286  0.02642454 0.94982344 0.94982344 0.02642454\n",
            " 0.97315884 0.9751126  0.02642454 0.02863778 0.90234286 0.02642454\n",
            " 0.9751126  0.9543276  0.96730274 0.9649017  0.02642454 0.97315884\n",
            " 0.9751126  0.9469942  0.93040526 0.9751126  0.03451282 0.9751126\n",
            " 0.02642454 0.02642454 0.02642454 0.11561671 0.02642454 0.031783\n",
            " 0.03476055 0.02786062 0.02642454 0.09290799 0.02642454 0.21080676\n",
            " 0.02642454 0.02642454 0.9751126  0.9751126  0.9751126  0.9751126\n",
            " 0.9751126  0.9751126  0.02642454 0.97315884 0.04558344 0.8849121\n",
            " 0.9751126  0.03059936 0.96707124 0.9751126  0.02642454 0.9560918\n",
            " 0.02642454 0.04338858 0.9751126  0.9751126  0.96730274 0.9751126\n",
            " 0.9684864  0.9751126  0.8488096  0.7803997  0.9622466  0.9751126\n",
            " 0.9751126  0.9751126  0.9751126  0.5849058  0.92148197 0.9751126\n",
            " 0.02642454 0.9751126  0.02642454 0.9751126  0.9751126  0.9751126\n",
            " 0.9751126  0.9751126  0.9683355  0.9751126  0.9751126  0.9548208\n",
            " 0.9751126  0.9751126  0.9751126  0.9690314  0.96707124 0.02642454\n",
            " 0.968825   0.9690314  0.9751126  0.04054494 0.9265608  0.02642454\n",
            " 0.9751126  0.9751126  0.9751126  0.9751126  0.02642454 0.05098807\n",
            " 0.031783   0.9751126  0.97315884 0.9751126  0.9751126  0.02642454\n",
            " 0.9751126  0.02642454 0.9751126  0.02642454 0.89866334 0.9751126\n",
            " 0.9751126  0.02642454 0.97315884 0.9751126  0.9751126  0.9203737\n",
            " 0.97315884 0.9751126  0.9751126  0.03451282 0.031783   0.02642454\n",
            " 0.9751126  0.9751126  0.9206134  0.9751126  0.95757306 0.9751126\n",
            " 0.96707124 0.9751126  0.9751126  0.7381298  0.9751126  0.02642454\n",
            " 0.02642454 0.9751126  0.02642454 0.02642454 0.02642454 0.9523307\n",
            " 0.04687763 0.031783   0.9751126  0.8943731  0.94464666 0.94982344\n",
            " 0.9751126  0.22631724 0.9487874  0.9751126  0.9751126  0.97315884\n",
            " 0.9751126  0.08594519 0.9751126  0.9751126  0.9751126  0.02642454\n",
            " 0.9751126  0.97315884 0.02642454 0.02642454 0.97315884 0.9751126\n",
            " 0.8689699  0.9690314  0.9751126  0.9751126  0.02642454 0.9751126\n",
            " 0.9751126  0.9543276  0.9751126  0.9751126  0.8515399  0.9350665\n",
            " 0.02642454 0.9751126  0.9251611  0.9751126  0.9751126  0.860673\n",
            " 0.1858404  0.97315884 0.97315884 0.02642454 0.9751126  0.9751126\n",
            " 0.9751126  0.8970261  0.9751126  0.9609949  0.893762   0.9751126\n",
            " 0.9751126  0.9751126  0.9751126  0.96707124 0.02786062 0.9622466\n",
            " 0.02642454 0.02642454 0.9724673  0.03678946 0.9751126  0.9751126\n",
            " 0.9751126  0.9751126  0.95394206 0.02642454 0.9690314  0.9751126\n",
            " 0.04687763 0.94922996 0.02642454 0.9724673  0.9100143  0.02642454\n",
            " 0.9751126  0.02642454 0.94982344 0.9532535  0.9751126  0.9179891\n",
            " 0.935264   0.94982344 0.9751126  0.94982344 0.02642454 0.02642454\n",
            " 0.9751126  0.9751126  0.9751126  0.897271   0.96229064 0.9751126\n",
            " 0.02642454 0.9019002  0.9751126  0.9134064  0.87593234 0.94982344\n",
            " 0.9751126  0.9751126  0.81142044 0.9543276  0.9751126  0.031783\n",
            " 0.9751126  0.9476124  0.95515615 0.9543276  0.77870756 0.95053387\n",
            " 0.9548208  0.02642454 0.97315884 0.13313308 0.9751126  0.66283953\n",
            " 0.02642454 0.9751126  0.9751126  0.9008776  0.9407183  0.9751126\n",
            " 0.031783   0.02642454 0.9318961  0.04316882 0.9622466  0.02875218\n",
            " 0.9684864  0.9684864  0.9751126  0.97315884 0.9424551  0.02939261\n",
            " 0.9751126  0.96550983 0.03120249 0.93631655 0.1288219  0.9645091\n",
            " 0.02642454 0.02642454 0.9505852  0.9622466  0.97315884 0.02642454\n",
            " 0.9751126  0.9528658  0.97315884 0.97315884 0.93502516 0.9751126\n",
            " 0.950505   0.97315884 0.9751126  0.97315884 0.96634287 0.02642454\n",
            " 0.97315884 0.02642454 0.15464528 0.9293252  0.9751126  0.97315884\n",
            " 0.9751126  0.860673   0.94011134 0.9417494  0.9751126  0.9751126\n",
            " 0.9751126  0.97315884 0.9751126  0.9751126  0.9751126  0.9751126\n",
            " 0.94982344 0.9751126  0.94982344 0.88763565 0.9751126  0.94982344\n",
            " 0.9641301  0.88763565 0.92064005 0.9379563  0.02786062 0.02642454\n",
            " 0.02642454 0.02642454 0.03059936 0.02642454 0.9751126 ]\n"
          ]
        }
      ]
    },
    {
      "cell_type": "code",
      "metadata": {
        "colab": {
          "base_uri": "https://localhost:8080/",
          "height": 1000
        },
        "id": "G6sXO_2t1snO",
        "outputId": "794b0f9e-d0b6-490f-af7d-2d88d60705dd"
      },
      "source": [
        "from xgboost_ray import RayDMatrix, RayParams, train\n",
        "from sklearn.datasets import load_breast_cancer\n",
        "\n",
        "num_actors = 1\n",
        "num_cpus_per_actor = 1\n",
        "\n",
        "ray_params = RayParams(\n",
        "    num_actors=num_actors, cpus_per_actor=num_cpus_per_actor)\n",
        "\n",
        "def train_model(config):\n",
        "    train_x, train_y = load_breast_cancer(return_X_y=True)\n",
        "    train_set = RayDMatrix(train_x, train_y)\n",
        "\n",
        "    evals_result = {}\n",
        "    bst = train(\n",
        "        params=config,\n",
        "        dtrain=train_set,\n",
        "        evals_result=evals_result,\n",
        "        evals=[(train_set, \"train\")],\n",
        "        verbose_eval=False,\n",
        "        ray_params=ray_params)\n",
        "    bst.save_model(\"model.xgb\")\n",
        "\n",
        "from ray import tune\n",
        "\n",
        "# Specify the hyperparameter search space.\n",
        "config = {\n",
        "    \"tree_method\": \"approx\",\n",
        "    \"objective\": \"binary:logistic\",\n",
        "    \"eval_metric\": [\"logloss\", \"error\"],\n",
        "    \"eta\": tune.loguniform(1e-4, 1e-1),\n",
        "    \"subsample\": tune.uniform(0.5, 1.0),\n",
        "    \"max_depth\": tune.randint(1, 9)\n",
        "}\n",
        "\n",
        "# Make sure to use the `get_tune_resources` method to set the `resources_per_trial`\n",
        "analysis = tune.run(\n",
        "    train_model,\n",
        "    config=config,\n",
        "    metric=\"train-error\",\n",
        "    mode=\"min\",\n",
        "    num_samples=4,\n",
        "    resources_per_trial=ray_params.get_tune_resources())\n",
        "print(\"Best hyperparameters\", analysis.best_config)"
      ],
      "execution_count": 6,
      "outputs": [
        {
          "output_type": "stream",
          "name": "stderr",
          "text": [
            "2021-11-12 11:09:56,712\tWARNING function_runner.py:564 -- Function checkpointing is disabled. This may result in unexpected behavior when using checkpointing features or certain schedulers. To enable, set the train function arguments to be `func(config, checkpoint_dir=None)`.\n",
            "2021-11-12 11:09:56,730\tINFO logger.py:606 -- pip install 'ray[tune]' to see TensorBoard files.\n",
            "2021-11-12 11:09:56,735\tWARNING callback.py:115 -- The TensorboardX logger cannot be instantiated because either TensorboardX or one of it's dependencies is not installed. Please make sure you have the latest version of TensorboardX installed: `pip install -U tensorboardx`\n"
          ]
        },
        {
          "output_type": "display_data",
          "data": {
            "text/html": [
              "== Status ==<br>Current time: 2021-11-12 11:09:56 (running for 00:00:00.14)<br>Memory usage on this node: 1.0/12.7 GiB<br>Using FIFO scheduling algorithm.<br>Resources requested: 0/2 CPUs, 0/0 GPUs, 0.0/7.37 GiB heap, 0.0/3.68 GiB objects<br>Result logdir: /root/ray_results/train_model_2021-11-12_11-09-56<br>Number of trials: 4/4 (4 PENDING)<br><table>\n",
              "<thead>\n",
              "<tr><th>Trial name             </th><th>status  </th><th>loc  </th><th style=\"text-align: right;\">        eta</th><th style=\"text-align: right;\">  max_depth</th><th style=\"text-align: right;\">  subsample</th></tr>\n",
              "</thead>\n",
              "<tbody>\n",
              "<tr><td>train_model_11b5b_00000</td><td>PENDING </td><td>     </td><td style=\"text-align: right;\">0.000159847</td><td style=\"text-align: right;\">          1</td><td style=\"text-align: right;\">   0.795395</td></tr>\n",
              "<tr><td>train_model_11b5b_00001</td><td>PENDING </td><td>     </td><td style=\"text-align: right;\">0.0198814  </td><td style=\"text-align: right;\">          4</td><td style=\"text-align: right;\">   0.823168</td></tr>\n",
              "<tr><td>train_model_11b5b_00002</td><td>PENDING </td><td>     </td><td style=\"text-align: right;\">0.00474631 </td><td style=\"text-align: right;\">          1</td><td style=\"text-align: right;\">   0.89023 </td></tr>\n",
              "<tr><td>train_model_11b5b_00003</td><td>PENDING </td><td>     </td><td style=\"text-align: right;\">0.00956784 </td><td style=\"text-align: right;\">          6</td><td style=\"text-align: right;\">   0.967491</td></tr>\n",
              "</tbody>\n",
              "</table><br><br>"
            ],
            "text/plain": [
              "<IPython.core.display.HTML object>"
            ]
          },
          "metadata": {}
        },
        {
          "output_type": "stream",
          "name": "stderr",
          "text": [
            "\u001b[2m\u001b[36m(pid=405)\u001b[0m /usr/local/lib/python3.7/dist-packages/xgboost_ray/main.py:166: UserWarning: You are using `xgboost_ray` with a legacy XGBoost version (version 0.90). While we try to support older XGBoost versions, please note that this library is only fully tested and supported for XGBoost >= 1.4. Please consider upgrading your XGBoost version (`pip install -U xgboost`).\n",
            "\u001b[2m\u001b[36m(pid=405)\u001b[0m   warnings.warn(LEGACY_WARNING)\n",
            "\u001b[2m\u001b[36m(pid=405)\u001b[0m /usr/local/lib/python3.7/dist-packages/xgboost_ray/main.py:422: UserWarning: `num_actors` in `ray_params` is smaller than 2 (1). XGBoost will NOT be distributed!\n",
            "\u001b[2m\u001b[36m(pid=405)\u001b[0m   f\"`num_actors` in `ray_params` is smaller than 2 \"\n",
            "\u001b[2m\u001b[36m(pid=405)\u001b[0m 2021-11-12 11:09:59,041\tINFO main.py:971 -- [RayXGBoost] Created 1 new actors (1 total actors). Waiting until actors are ready for training.\n",
            "\u001b[2m\u001b[36m(pid=405)\u001b[0m 2021-11-12 11:10:01,655\tINFO main.py:1016 -- [RayXGBoost] Starting XGBoost training.\n"
          ]
        },
        {
          "output_type": "display_data",
          "data": {
            "text/html": [
              "== Status ==<br>Current time: 2021-11-12 11:10:01 (running for 00:00:05.21)<br>Memory usage on this node: 1.4/12.7 GiB<br>Using FIFO scheduling algorithm.<br>Resources requested: 2.0/2 CPUs, 0/0 GPUs, 0.0/7.37 GiB heap, 0.0/3.68 GiB objects<br>Result logdir: /root/ray_results/train_model_2021-11-12_11-09-56<br>Number of trials: 4/4 (3 PENDING, 1 RUNNING)<br><table>\n",
              "<thead>\n",
              "<tr><th>Trial name             </th><th>status  </th><th>loc           </th><th style=\"text-align: right;\">        eta</th><th style=\"text-align: right;\">  max_depth</th><th style=\"text-align: right;\">  subsample</th></tr>\n",
              "</thead>\n",
              "<tbody>\n",
              "<tr><td>train_model_11b5b_00000</td><td>RUNNING </td><td>172.28.0.2:405</td><td style=\"text-align: right;\">0.000159847</td><td style=\"text-align: right;\">          1</td><td style=\"text-align: right;\">   0.795395</td></tr>\n",
              "<tr><td>train_model_11b5b_00001</td><td>PENDING </td><td>              </td><td style=\"text-align: right;\">0.0198814  </td><td style=\"text-align: right;\">          4</td><td style=\"text-align: right;\">   0.823168</td></tr>\n",
              "<tr><td>train_model_11b5b_00002</td><td>PENDING </td><td>              </td><td style=\"text-align: right;\">0.00474631 </td><td style=\"text-align: right;\">          1</td><td style=\"text-align: right;\">   0.89023 </td></tr>\n",
              "<tr><td>train_model_11b5b_00003</td><td>PENDING </td><td>              </td><td style=\"text-align: right;\">0.00956784 </td><td style=\"text-align: right;\">          6</td><td style=\"text-align: right;\">   0.967491</td></tr>\n",
              "</tbody>\n",
              "</table><br><br>"
            ],
            "text/plain": [
              "<IPython.core.display.HTML object>"
            ]
          },
          "metadata": {}
        },
        {
          "output_type": "stream",
          "name": "stdout",
          "text": [
            "Result for train_model_11b5b_00000:\n",
            "  date: 2021-11-12_11-10-02\n",
            "  done: false\n",
            "  experiment_id: a9b8fbb4302d430c8fa7ca1a4dc989ec\n",
            "  hostname: b1df80ce45c6\n",
            "  iterations_since_restore: 1\n",
            "  node_ip: 172.28.0.2\n",
            "  pid: 405\n",
            "  time_since_restore: 3.7044436931610107\n",
            "  time_this_iter_s: 3.7044436931610107\n",
            "  time_total_s: 3.7044436931610107\n",
            "  timestamp: 1636715402\n",
            "  timesteps_since_restore: 0\n",
            "  train-error: 0.084359\n",
            "  train-logloss: 0.693036\n",
            "  training_iteration: 1\n",
            "  trial_id: 11b5b_00000\n",
            "  \n",
            "Result for train_model_11b5b_00000:\n",
            "  date: 2021-11-12_11-10-02\n",
            "  done: true\n",
            "  experiment_id: a9b8fbb4302d430c8fa7ca1a4dc989ec\n",
            "  experiment_tag: 0_eta=0.00015985,max_depth=1,subsample=0.7954\n",
            "  hostname: b1df80ce45c6\n",
            "  iterations_since_restore: 10\n",
            "  node_ip: 172.28.0.2\n",
            "  pid: 405\n",
            "  time_since_restore: 3.7710139751434326\n",
            "  time_this_iter_s: 0.0057337284088134766\n",
            "  time_total_s: 3.7710139751434326\n",
            "  timestamp: 1636715402\n",
            "  timesteps_since_restore: 0\n",
            "  train-error: 0.075571\n",
            "  train-logloss: 0.692036\n",
            "  training_iteration: 10\n",
            "  trial_id: 11b5b_00000\n",
            "  \n"
          ]
        },
        {
          "output_type": "stream",
          "name": "stderr",
          "text": [
            "\u001b[2m\u001b[36m(pid=405)\u001b[0m 2021-11-12 11:10:02,773\tINFO main.py:1498 -- [RayXGBoost] Finished XGBoost training on training data with total N=569 in 3.79 seconds (1.11 pure XGBoost training time).\n",
            "\u001b[2m\u001b[36m(pid=509)\u001b[0m /usr/local/lib/python3.7/dist-packages/xgboost_ray/main.py:166: UserWarning: You are using `xgboost_ray` with a legacy XGBoost version (version 0.90). While we try to support older XGBoost versions, please note that this library is only fully tested and supported for XGBoost >= 1.4. Please consider upgrading your XGBoost version (`pip install -U xgboost`).\n",
            "\u001b[2m\u001b[36m(pid=509)\u001b[0m   warnings.warn(LEGACY_WARNING)\n",
            "\u001b[2m\u001b[36m(pid=509)\u001b[0m /usr/local/lib/python3.7/dist-packages/xgboost_ray/main.py:422: UserWarning: `num_actors` in `ray_params` is smaller than 2 (1). XGBoost will NOT be distributed!\n",
            "\u001b[2m\u001b[36m(pid=509)\u001b[0m   f\"`num_actors` in `ray_params` is smaller than 2 \"\n",
            "\u001b[2m\u001b[36m(pid=509)\u001b[0m 2021-11-12 11:10:04,781\tINFO main.py:971 -- [RayXGBoost] Created 1 new actors (1 total actors). Waiting until actors are ready for training.\n",
            "\u001b[2m\u001b[36m(pid=509)\u001b[0m 2021-11-12 11:10:07,396\tINFO main.py:1016 -- [RayXGBoost] Starting XGBoost training.\n"
          ]
        },
        {
          "output_type": "display_data",
          "data": {
            "text/html": [
              "== Status ==<br>Current time: 2021-11-12 11:10:07 (running for 00:00:11.16)<br>Memory usage on this node: 1.4/12.7 GiB<br>Using FIFO scheduling algorithm.<br>Resources requested: 2.0/2 CPUs, 0/0 GPUs, 0.0/7.37 GiB heap, 0.0/3.68 GiB objects<br>Current best trial: 11b5b_00000 with train-error=0.075571 and parameters={'tree_method': 'approx', 'objective': 'binary:logistic', 'eval_metric': ['logloss', 'error'], 'eta': 0.0001598474447989792, 'subsample': 0.7953954574194959, 'max_depth': 1, 'nthread': 1, 'n_jobs': 1}<br>Result logdir: /root/ray_results/train_model_2021-11-12_11-09-56<br>Number of trials: 4/4 (2 PENDING, 1 RUNNING, 1 TERMINATED)<br><table>\n",
              "<thead>\n",
              "<tr><th>Trial name             </th><th>status    </th><th>loc           </th><th style=\"text-align: right;\">        eta</th><th style=\"text-align: right;\">  max_depth</th><th style=\"text-align: right;\">  subsample</th><th style=\"text-align: right;\">  iter</th><th style=\"text-align: right;\">  total time (s)</th><th style=\"text-align: right;\">  train-logloss</th><th style=\"text-align: right;\">  train-error</th></tr>\n",
              "</thead>\n",
              "<tbody>\n",
              "<tr><td>train_model_11b5b_00001</td><td>RUNNING   </td><td>172.28.0.2:509</td><td style=\"text-align: right;\">0.0198814  </td><td style=\"text-align: right;\">          4</td><td style=\"text-align: right;\">   0.823168</td><td style=\"text-align: right;\">      </td><td style=\"text-align: right;\">                </td><td style=\"text-align: right;\">               </td><td style=\"text-align: right;\">             </td></tr>\n",
              "<tr><td>train_model_11b5b_00002</td><td>PENDING   </td><td>              </td><td style=\"text-align: right;\">0.00474631 </td><td style=\"text-align: right;\">          1</td><td style=\"text-align: right;\">   0.89023 </td><td style=\"text-align: right;\">      </td><td style=\"text-align: right;\">                </td><td style=\"text-align: right;\">               </td><td style=\"text-align: right;\">             </td></tr>\n",
              "<tr><td>train_model_11b5b_00003</td><td>PENDING   </td><td>              </td><td style=\"text-align: right;\">0.00956784 </td><td style=\"text-align: right;\">          6</td><td style=\"text-align: right;\">   0.967491</td><td style=\"text-align: right;\">      </td><td style=\"text-align: right;\">                </td><td style=\"text-align: right;\">               </td><td style=\"text-align: right;\">             </td></tr>\n",
              "<tr><td>train_model_11b5b_00000</td><td>TERMINATED</td><td>172.28.0.2:405</td><td style=\"text-align: right;\">0.000159847</td><td style=\"text-align: right;\">          1</td><td style=\"text-align: right;\">   0.795395</td><td style=\"text-align: right;\">    10</td><td style=\"text-align: right;\">         3.77101</td><td style=\"text-align: right;\">       0.692036</td><td style=\"text-align: right;\">     0.075571</td></tr>\n",
              "</tbody>\n",
              "</table><br><br>"
            ],
            "text/plain": [
              "<IPython.core.display.HTML object>"
            ]
          },
          "metadata": {}
        },
        {
          "output_type": "stream",
          "name": "stdout",
          "text": [
            "\u001b[2m\u001b[1m\u001b[36m(scheduler +47s)\u001b[0m Tip: use `ray status` to view detailed cluster status. To disable these messages, set RAY_SCHEDULER_EVENTS=0.\n",
            "\u001b[2m\u001b[1m\u001b[33m(scheduler +47s)\u001b[0m Warning: The following resource request cannot be scheduled right now: {'CPU': 1.0}. This is likely due to all cluster resources being claimed by actors. Consider creating fewer actors or adding more nodes to this Ray cluster.\n",
            "Result for train_model_11b5b_00001:\n",
            "  date: 2021-11-12_11-10-08\n",
            "  done: false\n",
            "  experiment_id: f750e0674d5c46e394ed02b3889ddaca\n",
            "  hostname: b1df80ce45c6\n",
            "  iterations_since_restore: 1\n",
            "  node_ip: 172.28.0.2\n",
            "  pid: 509\n",
            "  time_since_restore: 3.695244789123535\n",
            "  time_this_iter_s: 3.695244789123535\n",
            "  time_total_s: 3.695244789123535\n",
            "  timestamp: 1636715408\n",
            "  timesteps_since_restore: 0\n",
            "  train-error: 0.035149\n",
            "  train-logloss: 0.676061\n",
            "  training_iteration: 1\n",
            "  trial_id: 11b5b_00001\n",
            "  \n",
            "Result for train_model_11b5b_00001:\n",
            "  date: 2021-11-12_11-10-08\n",
            "  done: true\n",
            "  experiment_id: f750e0674d5c46e394ed02b3889ddaca\n",
            "  experiment_tag: 1_eta=0.019881,max_depth=4,subsample=0.82317\n",
            "  hostname: b1df80ce45c6\n",
            "  iterations_since_restore: 10\n",
            "  node_ip: 172.28.0.2\n",
            "  pid: 509\n",
            "  time_since_restore: 3.756042957305908\n",
            "  time_this_iter_s: 0.005360841751098633\n",
            "  time_total_s: 3.756042957305908\n",
            "  timestamp: 1636715408\n",
            "  timesteps_since_restore: 0\n",
            "  train-error: 0.008787\n",
            "  train-logloss: 0.545929\n",
            "  training_iteration: 10\n",
            "  trial_id: 11b5b_00001\n",
            "  \n"
          ]
        },
        {
          "output_type": "stream",
          "name": "stderr",
          "text": [
            "\u001b[2m\u001b[36m(pid=509)\u001b[0m 2021-11-12 11:10:08,507\tINFO main.py:1498 -- [RayXGBoost] Finished XGBoost training on training data with total N=569 in 3.77 seconds (1.11 pure XGBoost training time).\n",
            "\u001b[2m\u001b[36m(pid=613)\u001b[0m /usr/local/lib/python3.7/dist-packages/xgboost_ray/main.py:166: UserWarning: You are using `xgboost_ray` with a legacy XGBoost version (version 0.90). While we try to support older XGBoost versions, please note that this library is only fully tested and supported for XGBoost >= 1.4. Please consider upgrading your XGBoost version (`pip install -U xgboost`).\n",
            "\u001b[2m\u001b[36m(pid=613)\u001b[0m   warnings.warn(LEGACY_WARNING)\n",
            "\u001b[2m\u001b[36m(pid=613)\u001b[0m /usr/local/lib/python3.7/dist-packages/xgboost_ray/main.py:422: UserWarning: `num_actors` in `ray_params` is smaller than 2 (1). XGBoost will NOT be distributed!\n",
            "\u001b[2m\u001b[36m(pid=613)\u001b[0m   f\"`num_actors` in `ray_params` is smaller than 2 \"\n",
            "\u001b[2m\u001b[36m(pid=613)\u001b[0m 2021-11-12 11:10:10,520\tINFO main.py:971 -- [RayXGBoost] Created 1 new actors (1 total actors). Waiting until actors are ready for training.\n",
            "\u001b[2m\u001b[36m(pid=613)\u001b[0m 2021-11-12 11:10:13,136\tINFO main.py:1016 -- [RayXGBoost] Starting XGBoost training.\n"
          ]
        },
        {
          "output_type": "display_data",
          "data": {
            "text/html": [
              "== Status ==<br>Current time: 2021-11-12 11:10:13 (running for 00:00:16.81)<br>Memory usage on this node: 1.4/12.7 GiB<br>Using FIFO scheduling algorithm.<br>Resources requested: 2.0/2 CPUs, 0/0 GPUs, 0.0/7.37 GiB heap, 0.0/3.68 GiB objects<br>Current best trial: 11b5b_00001 with train-error=0.008787 and parameters={'tree_method': 'approx', 'objective': 'binary:logistic', 'eval_metric': ['logloss', 'error'], 'eta': 0.019881359120215953, 'subsample': 0.8231678804096689, 'max_depth': 4, 'nthread': 1, 'n_jobs': 1}<br>Result logdir: /root/ray_results/train_model_2021-11-12_11-09-56<br>Number of trials: 4/4 (1 PENDING, 1 RUNNING, 2 TERMINATED)<br><table>\n",
              "<thead>\n",
              "<tr><th>Trial name             </th><th>status    </th><th>loc           </th><th style=\"text-align: right;\">        eta</th><th style=\"text-align: right;\">  max_depth</th><th style=\"text-align: right;\">  subsample</th><th style=\"text-align: right;\">  iter</th><th style=\"text-align: right;\">  total time (s)</th><th style=\"text-align: right;\">  train-logloss</th><th style=\"text-align: right;\">  train-error</th></tr>\n",
              "</thead>\n",
              "<tbody>\n",
              "<tr><td>train_model_11b5b_00002</td><td>RUNNING   </td><td>172.28.0.2:613</td><td style=\"text-align: right;\">0.00474631 </td><td style=\"text-align: right;\">          1</td><td style=\"text-align: right;\">   0.89023 </td><td style=\"text-align: right;\">      </td><td style=\"text-align: right;\">                </td><td style=\"text-align: right;\">               </td><td style=\"text-align: right;\">             </td></tr>\n",
              "<tr><td>train_model_11b5b_00003</td><td>PENDING   </td><td>              </td><td style=\"text-align: right;\">0.00956784 </td><td style=\"text-align: right;\">          6</td><td style=\"text-align: right;\">   0.967491</td><td style=\"text-align: right;\">      </td><td style=\"text-align: right;\">                </td><td style=\"text-align: right;\">               </td><td style=\"text-align: right;\">             </td></tr>\n",
              "<tr><td>train_model_11b5b_00000</td><td>TERMINATED</td><td>172.28.0.2:405</td><td style=\"text-align: right;\">0.000159847</td><td style=\"text-align: right;\">          1</td><td style=\"text-align: right;\">   0.795395</td><td style=\"text-align: right;\">    10</td><td style=\"text-align: right;\">         3.77101</td><td style=\"text-align: right;\">       0.692036</td><td style=\"text-align: right;\">     0.075571</td></tr>\n",
              "<tr><td>train_model_11b5b_00001</td><td>TERMINATED</td><td>172.28.0.2:509</td><td style=\"text-align: right;\">0.0198814  </td><td style=\"text-align: right;\">          4</td><td style=\"text-align: right;\">   0.823168</td><td style=\"text-align: right;\">    10</td><td style=\"text-align: right;\">         3.75604</td><td style=\"text-align: right;\">       0.545929</td><td style=\"text-align: right;\">     0.008787</td></tr>\n",
              "</tbody>\n",
              "</table><br><br>"
            ],
            "text/plain": [
              "<IPython.core.display.HTML object>"
            ]
          },
          "metadata": {}
        },
        {
          "output_type": "stream",
          "name": "stdout",
          "text": [
            "Result for train_model_11b5b_00002:\n",
            "  date: 2021-11-12_11-10-14\n",
            "  done: false\n",
            "  experiment_id: 2cc7d4e8bbfa42aa97d32b4e5d04f666\n",
            "  hostname: b1df80ce45c6\n",
            "  iterations_since_restore: 1\n",
            "  node_ip: 172.28.0.2\n",
            "  pid: 613\n",
            "  time_since_restore: 3.6991634368896484\n",
            "  time_this_iter_s: 3.6991634368896484\n",
            "  time_total_s: 3.6991634368896484\n",
            "  timestamp: 1636715414\n",
            "  timesteps_since_restore: 0\n",
            "  train-error: 0.082601\n",
            "  train-logloss: 0.689813\n",
            "  training_iteration: 1\n",
            "  trial_id: 11b5b_00002\n",
            "  \n",
            "Result for train_model_11b5b_00002:\n",
            "  date: 2021-11-12_11-10-14\n",
            "  done: true\n",
            "  experiment_id: 2cc7d4e8bbfa42aa97d32b4e5d04f666\n",
            "  experiment_tag: 2_eta=0.0047463,max_depth=1,subsample=0.89023\n",
            "  hostname: b1df80ce45c6\n",
            "  iterations_since_restore: 10\n",
            "  node_ip: 172.28.0.2\n",
            "  pid: 613\n",
            "  time_since_restore: 3.763552188873291\n",
            "  time_this_iter_s: 0.005279064178466797\n",
            "  time_total_s: 3.763552188873291\n",
            "  timestamp: 1636715414\n",
            "  timesteps_since_restore: 0\n",
            "  train-error: 0.063269\n",
            "  train-logloss: 0.661302\n",
            "  training_iteration: 10\n",
            "  trial_id: 11b5b_00002\n",
            "  \n"
          ]
        },
        {
          "output_type": "stream",
          "name": "stderr",
          "text": [
            "\u001b[2m\u001b[36m(pid=613)\u001b[0m 2021-11-12 11:10:14,250\tINFO main.py:1498 -- [RayXGBoost] Finished XGBoost training on training data with total N=569 in 3.78 seconds (1.11 pure XGBoost training time).\n",
            "\u001b[2m\u001b[36m(pid=717)\u001b[0m /usr/local/lib/python3.7/dist-packages/xgboost_ray/main.py:166: UserWarning: You are using `xgboost_ray` with a legacy XGBoost version (version 0.90). While we try to support older XGBoost versions, please note that this library is only fully tested and supported for XGBoost >= 1.4. Please consider upgrading your XGBoost version (`pip install -U xgboost`).\n",
            "\u001b[2m\u001b[36m(pid=717)\u001b[0m   warnings.warn(LEGACY_WARNING)\n",
            "\u001b[2m\u001b[36m(pid=717)\u001b[0m /usr/local/lib/python3.7/dist-packages/xgboost_ray/main.py:422: UserWarning: `num_actors` in `ray_params` is smaller than 2 (1). XGBoost will NOT be distributed!\n",
            "\u001b[2m\u001b[36m(pid=717)\u001b[0m   f\"`num_actors` in `ray_params` is smaller than 2 \"\n",
            "\u001b[2m\u001b[36m(pid=717)\u001b[0m 2021-11-12 11:10:16,216\tINFO main.py:971 -- [RayXGBoost] Created 1 new actors (1 total actors). Waiting until actors are ready for training.\n",
            "\u001b[2m\u001b[36m(pid=717)\u001b[0m 2021-11-12 11:10:18,835\tINFO main.py:1016 -- [RayXGBoost] Starting XGBoost training.\n"
          ]
        },
        {
          "output_type": "display_data",
          "data": {
            "text/html": [
              "== Status ==<br>Current time: 2021-11-12 11:10:19 (running for 00:00:22.57)<br>Memory usage on this node: 1.4/12.7 GiB<br>Using FIFO scheduling algorithm.<br>Resources requested: 2.0/2 CPUs, 0/0 GPUs, 0.0/7.37 GiB heap, 0.0/3.68 GiB objects<br>Current best trial: 11b5b_00001 with train-error=0.008787 and parameters={'tree_method': 'approx', 'objective': 'binary:logistic', 'eval_metric': ['logloss', 'error'], 'eta': 0.019881359120215953, 'subsample': 0.8231678804096689, 'max_depth': 4, 'nthread': 1, 'n_jobs': 1}<br>Result logdir: /root/ray_results/train_model_2021-11-12_11-09-56<br>Number of trials: 4/4 (1 RUNNING, 3 TERMINATED)<br><table>\n",
              "<thead>\n",
              "<tr><th>Trial name             </th><th>status    </th><th>loc           </th><th style=\"text-align: right;\">        eta</th><th style=\"text-align: right;\">  max_depth</th><th style=\"text-align: right;\">  subsample</th><th style=\"text-align: right;\">  iter</th><th style=\"text-align: right;\">  total time (s)</th><th style=\"text-align: right;\">  train-logloss</th><th style=\"text-align: right;\">  train-error</th></tr>\n",
              "</thead>\n",
              "<tbody>\n",
              "<tr><td>train_model_11b5b_00003</td><td>RUNNING   </td><td>172.28.0.2:717</td><td style=\"text-align: right;\">0.00956784 </td><td style=\"text-align: right;\">          6</td><td style=\"text-align: right;\">   0.967491</td><td style=\"text-align: right;\">      </td><td style=\"text-align: right;\">                </td><td style=\"text-align: right;\">               </td><td style=\"text-align: right;\">             </td></tr>\n",
              "<tr><td>train_model_11b5b_00000</td><td>TERMINATED</td><td>172.28.0.2:405</td><td style=\"text-align: right;\">0.000159847</td><td style=\"text-align: right;\">          1</td><td style=\"text-align: right;\">   0.795395</td><td style=\"text-align: right;\">    10</td><td style=\"text-align: right;\">         3.77101</td><td style=\"text-align: right;\">       0.692036</td><td style=\"text-align: right;\">     0.075571</td></tr>\n",
              "<tr><td>train_model_11b5b_00001</td><td>TERMINATED</td><td>172.28.0.2:509</td><td style=\"text-align: right;\">0.0198814  </td><td style=\"text-align: right;\">          4</td><td style=\"text-align: right;\">   0.823168</td><td style=\"text-align: right;\">    10</td><td style=\"text-align: right;\">         3.75604</td><td style=\"text-align: right;\">       0.545929</td><td style=\"text-align: right;\">     0.008787</td></tr>\n",
              "<tr><td>train_model_11b5b_00002</td><td>TERMINATED</td><td>172.28.0.2:613</td><td style=\"text-align: right;\">0.00474631 </td><td style=\"text-align: right;\">          1</td><td style=\"text-align: right;\">   0.89023 </td><td style=\"text-align: right;\">    10</td><td style=\"text-align: right;\">         3.76355</td><td style=\"text-align: right;\">       0.661302</td><td style=\"text-align: right;\">     0.063269</td></tr>\n",
              "</tbody>\n",
              "</table><br><br>"
            ],
            "text/plain": [
              "<IPython.core.display.HTML object>"
            ]
          },
          "metadata": {}
        },
        {
          "output_type": "stream",
          "name": "stdout",
          "text": [
            "Result for train_model_11b5b_00003:\n",
            "  date: 2021-11-12_11-10-19\n",
            "  done: false\n",
            "  experiment_id: 79282dc2b8814320a218d0b83a50b524\n",
            "  hostname: b1df80ce45c6\n",
            "  iterations_since_restore: 1\n",
            "  node_ip: 172.28.0.2\n",
            "  pid: 717\n",
            "  time_since_restore: 3.7023210525512695\n",
            "  time_this_iter_s: 3.7023210525512695\n",
            "  time_total_s: 3.7023210525512695\n",
            "  timestamp: 1636715419\n",
            "  timesteps_since_restore: 0\n",
            "  train-error: 0.02109\n",
            "  train-logloss: 0.684639\n",
            "  training_iteration: 1\n",
            "  trial_id: 11b5b_00003\n",
            "  \n",
            "Result for train_model_11b5b_00003:\n",
            "  date: 2021-11-12_11-10-19\n",
            "  done: true\n",
            "  experiment_id: 79282dc2b8814320a218d0b83a50b524\n",
            "  experiment_tag: 3_eta=0.0095678,max_depth=6,subsample=0.96749\n",
            "  hostname: b1df80ce45c6\n",
            "  iterations_since_restore: 10\n",
            "  node_ip: 172.28.0.2\n",
            "  pid: 717\n",
            "  time_since_restore: 3.771862030029297\n",
            "  time_this_iter_s: 0.005606889724731445\n",
            "  time_total_s: 3.771862030029297\n",
            "  timestamp: 1636715419\n",
            "  timesteps_since_restore: 0\n",
            "  train-error: 0.008787\n",
            "  train-logloss: 0.614291\n",
            "  training_iteration: 10\n",
            "  trial_id: 11b5b_00003\n",
            "  \n"
          ]
        },
        {
          "output_type": "display_data",
          "data": {
            "text/html": [
              "== Status ==<br>Current time: 2021-11-12 11:10:19 (running for 00:00:23.24)<br>Memory usage on this node: 1.2/12.7 GiB<br>Using FIFO scheduling algorithm.<br>Resources requested: 0/2 CPUs, 0/0 GPUs, 0.0/7.37 GiB heap, 0.0/3.68 GiB objects<br>Current best trial: 11b5b_00001 with train-error=0.008787 and parameters={'tree_method': 'approx', 'objective': 'binary:logistic', 'eval_metric': ['logloss', 'error'], 'eta': 0.019881359120215953, 'subsample': 0.8231678804096689, 'max_depth': 4, 'nthread': 1, 'n_jobs': 1}<br>Result logdir: /root/ray_results/train_model_2021-11-12_11-09-56<br>Number of trials: 4/4 (4 TERMINATED)<br><table>\n",
              "<thead>\n",
              "<tr><th>Trial name             </th><th>status    </th><th>loc           </th><th style=\"text-align: right;\">        eta</th><th style=\"text-align: right;\">  max_depth</th><th style=\"text-align: right;\">  subsample</th><th style=\"text-align: right;\">  iter</th><th style=\"text-align: right;\">  total time (s)</th><th style=\"text-align: right;\">  train-logloss</th><th style=\"text-align: right;\">  train-error</th></tr>\n",
              "</thead>\n",
              "<tbody>\n",
              "<tr><td>train_model_11b5b_00000</td><td>TERMINATED</td><td>172.28.0.2:405</td><td style=\"text-align: right;\">0.000159847</td><td style=\"text-align: right;\">          1</td><td style=\"text-align: right;\">   0.795395</td><td style=\"text-align: right;\">    10</td><td style=\"text-align: right;\">         3.77101</td><td style=\"text-align: right;\">       0.692036</td><td style=\"text-align: right;\">     0.075571</td></tr>\n",
              "<tr><td>train_model_11b5b_00001</td><td>TERMINATED</td><td>172.28.0.2:509</td><td style=\"text-align: right;\">0.0198814  </td><td style=\"text-align: right;\">          4</td><td style=\"text-align: right;\">   0.823168</td><td style=\"text-align: right;\">    10</td><td style=\"text-align: right;\">         3.75604</td><td style=\"text-align: right;\">       0.545929</td><td style=\"text-align: right;\">     0.008787</td></tr>\n",
              "<tr><td>train_model_11b5b_00002</td><td>TERMINATED</td><td>172.28.0.2:613</td><td style=\"text-align: right;\">0.00474631 </td><td style=\"text-align: right;\">          1</td><td style=\"text-align: right;\">   0.89023 </td><td style=\"text-align: right;\">    10</td><td style=\"text-align: right;\">         3.76355</td><td style=\"text-align: right;\">       0.661302</td><td style=\"text-align: right;\">     0.063269</td></tr>\n",
              "<tr><td>train_model_11b5b_00003</td><td>TERMINATED</td><td>172.28.0.2:717</td><td style=\"text-align: right;\">0.00956784 </td><td style=\"text-align: right;\">          6</td><td style=\"text-align: right;\">   0.967491</td><td style=\"text-align: right;\">    10</td><td style=\"text-align: right;\">         3.77186</td><td style=\"text-align: right;\">       0.614291</td><td style=\"text-align: right;\">     0.008787</td></tr>\n",
              "</tbody>\n",
              "</table><br><br>"
            ],
            "text/plain": [
              "<IPython.core.display.HTML object>"
            ]
          },
          "metadata": {}
        },
        {
          "output_type": "stream",
          "name": "stderr",
          "text": [
            "\u001b[2m\u001b[36m(pid=717)\u001b[0m 2021-11-12 11:10:19,958\tINFO main.py:1498 -- [RayXGBoost] Finished XGBoost training on training data with total N=569 in 3.79 seconds (1.12 pure XGBoost training time).\n",
            "2021-11-12 11:10:20,115\tINFO tune.py:630 -- Total run time: 23.40 seconds (23.23 seconds for the tuning loop).\n"
          ]
        },
        {
          "output_type": "stream",
          "name": "stdout",
          "text": [
            "Best hyperparameters {'tree_method': 'approx', 'objective': 'binary:logistic', 'eval_metric': ['logloss', 'error'], 'eta': 0.019881359120215953, 'subsample': 0.8231678804096689, 'max_depth': 4}\n"
          ]
        }
      ]
    },
    {
      "cell_type": "code",
      "metadata": {
        "id": "ON3wKG6I1vnY"
      },
      "source": [
        ""
      ],
      "execution_count": null,
      "outputs": []
    }
  ]
}